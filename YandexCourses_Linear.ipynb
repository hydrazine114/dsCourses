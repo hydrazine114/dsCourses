{
 "cells": [
  {
   "cell_type": "code",
   "execution_count": 7,
   "id": "868f8814-df93-4ef1-9bba-6ececadb4fce",
   "metadata": {},
   "outputs": [
    {
     "data": {
      "text/plain": [
       "array([-1.,  1., -1., -1.,  1., -1.,  1.,  1.,  1.,  1., -1.,  1.,  1.,\n",
       "        1., -1.,  1.,  1., -1., -1., -1.,  1.,  1.,  1., -1., -1.,  1.,\n",
       "       -1.,  1., -1.,  1., -1., -1., -1.,  1.,  1.,  1., -1.,  1.,  1.,\n",
       "       -1.,  1.,  1.,  1., -1.,  1., -1.,  1., -1.,  1.,  1., -1.,  1.,\n",
       "       -1., -1., -1.,  1., -1., -1., -1., -1., -1., -1., -1.,  1., -1.,\n",
       "       -1., -1.,  1., -1., -1., -1., -1., -1., -1., -1., -1.,  1.,  1.,\n",
       "        1., -1.,  1., -1.,  1., -1., -1., -1.,  1., -1.,  1., -1., -1.,\n",
       "       -1.,  1., -1.,  1., -1., -1.,  1., -1., -1.,  1.,  1.,  1.,  1.,\n",
       "        1.,  1.,  1., -1., -1., -1., -1., -1., -1.,  1.,  1., -1., -1.,\n",
       "        1.,  1.,  1.,  1.,  1., -1., -1.,  1.,  1.,  1., -1., -1., -1.,\n",
       "        1., -1.,  1.,  1.,  1., -1., -1.,  1., -1., -1., -1., -1., -1.,\n",
       "       -1.,  1., -1., -1.,  1.,  1.,  1., -1.,  1.,  1., -1., -1.,  1.,\n",
       "        1., -1.,  1., -1.,  1., -1.,  1.,  1.,  1., -1.,  1.,  1.,  1.,\n",
       "        1., -1.,  1.,  1., -1.,  1.,  1., -1., -1.,  1., -1.,  1.,  1.,\n",
       "        1.,  1., -1., -1., -1.,  1.,  1., -1.,  1., -1.,  1., -1.,  1.,\n",
       "        1., -1.,  1., -1.,  1.,  1.,  1., -1.,  1.,  1.,  1., -1., -1.,\n",
       "       -1.,  1., -1., -1.,  1.,  1., -1., -1.,  1.,  1.,  1.,  1.,  1.,\n",
       "       -1.,  1.,  1.,  1., -1., -1., -1., -1.,  1., -1., -1.,  1., -1.,\n",
       "        1., -1., -1., -1., -1.,  1., -1.,  1., -1.,  1., -1., -1.,  1.,\n",
       "       -1.,  1.,  1., -1., -1., -1., -1., -1., -1.,  1., -1., -1., -1.,\n",
       "        1.,  1.,  1.,  1., -1., -1.,  1.,  1., -1., -1.,  1.,  1., -1.,\n",
       "        1.,  1.,  1., -1.,  1., -1.,  1.,  1., -1., -1., -1., -1., -1.,\n",
       "       -1., -1., -1., -1.,  1., -1.,  1.,  1.,  1., -1., -1.,  1.,  1.,\n",
       "        1.])"
      ]
     },
     "execution_count": 7,
     "metadata": {},
     "output_type": "execute_result"
    }
   ],
   "source": [
    "import pandas as pd\n",
    "import numpy as np\n",
    "import sklearn\n",
    "from sklearn.linear_model import Perceptron\n",
    "from sklearn.preprocessing import StandardScaler\n",
    "\n",
    "data_train = pd.read_csv('perceptron-train.csv', header=None)\n",
    "data_test = pd.read_csv('perceptron-test.csv', header=None)\n",
    "\n",
    "y_train = data_train[0]\n",
    "X_train = data_train.iloc[:, 1:3]\n",
    "\n",
    "y_test = data_test[0]\n",
    "X_test = data_test.iloc[:, 1:3]\n",
    "\n",
    "scaler = StandardScaler()\n",
    "X_train_scaler = scaler.fit_transform(X_train)\n",
    "X_test_scaler = scaler.transform(X_test)\n",
    "y_train = np.array(y_train)\n",
    "y_train"
   ]
  },
  {
   "cell_type": "code",
   "execution_count": 8,
   "id": "95bebb34-eaa8-46b2-8fa4-012c91aede66",
   "metadata": {},
   "outputs": [
    {
     "data": {
      "text/plain": [
       "0.84"
      ]
     },
     "execution_count": 8,
     "metadata": {},
     "output_type": "execute_result"
    }
   ],
   "source": [
    "clf0 = Perceptron(max_iter=5, tol=None, random_state=241)\n",
    "clf0.fit(X_train, y_train)\n",
    "clf1 = Perceptron(max_iter=5, tol=None, random_state=241)\n",
    "clf1.fit(X_train_scaler, y_train)\n",
    "sklearn.metrics.accuracy_score(y_test, clf1.predict(X_test_scaler))"
   ]
  },
  {
   "cell_type": "code",
   "execution_count": 88,
   "id": "54d049d8-099f-4fe4-acc7-94ead40ca87b",
   "metadata": {},
   "outputs": [
    {
     "data": {
      "text/plain": [
       "'1.0.1'"
      ]
     },
     "execution_count": 88,
     "metadata": {},
     "output_type": "execute_result"
    }
   ],
   "source": [
    "sklearn.__version__"
   ]
  }
 ],
 "metadata": {
  "kernelspec": {
   "display_name": "Python 3 (ipykernel)",
   "language": "python",
   "name": "python3"
  },
  "language_info": {
   "codemirror_mode": {
    "name": "ipython",
    "version": 3
   },
   "file_extension": ".py",
   "mimetype": "text/x-python",
   "name": "python",
   "nbconvert_exporter": "python",
   "pygments_lexer": "ipython3",
   "version": "3.8.5"
  }
 },
 "nbformat": 4,
 "nbformat_minor": 5
}
